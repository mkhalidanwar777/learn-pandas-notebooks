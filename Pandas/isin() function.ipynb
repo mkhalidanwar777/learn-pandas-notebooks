{
 "cells": [
  {
   "cell_type": "markdown",
   "id": "0ea5ae31-da42-48bf-bbee-a833f46470b4",
   "metadata": {},
   "source": [
    "# isin() function\n",
    "#\n",
    "## last 5 over highest runs in all season of IPL"
   ]
  },
  {
   "cell_type": "code",
   "execution_count": 17,
   "id": "2381690c-bb51-4f40-adea-68dcf90a372c",
   "metadata": {},
   "outputs": [
    {
     "data": {
      "text/plain": [
       "batsman\n",
       "AB de Villiers    145.129059\n",
       "YK Pathan         140.751445\n",
       "KA Pollard        140.621266\n",
       "DA Warner         138.318401\n",
       "DA Miller         137.709251\n",
       "Name: batsman_runs, dtype: float64"
      ]
     },
     "execution_count": 17,
     "metadata": {},
     "output_type": "execute_result"
    }
   ],
   "source": [
    "import numpy as np\n",
    "import pandas as pd\n",
    "\n",
    "delivery=pd.read_csv('deliveries.csv')\n",
    "\n",
    "death_over=delivery[delivery['over']>15]\n",
    "\n",
    "all_batsman=death_over.groupby('batsman')['batsman_runs'].count()\n",
    "\n",
    "x=all_batsman>200\n",
    "\n",
    "all_batsman[x]\n",
    "\n",
    "batsman_list=all_batsman[x].index.tolist()\n",
    "\n",
    "final=delivery[delivery['batsman'].isin(batsman_list)]\n",
    "\n",
    "runs=final.groupby('batsman')['batsman_runs'].sum()\n",
    "\n",
    "\n",
    "balls=final.groupby('batsman')['batsman_runs'].count()\n",
    "\n",
    "sr=(runs/balls)*100\n",
    "\n",
    "sr.sort_values(ascending=False).head()"
   ]
  },
  {
   "cell_type": "markdown",
   "id": "a8016b7e-e92f-42d7-97bd-e1808a43ce1b",
   "metadata": {},
   "source": [
    "# last 5 over highest runs in all season of IPL this is correct"
   ]
  },
  {
   "cell_type": "code",
   "execution_count": 18,
   "id": "d65468be-b5d1-4913-a2ae-6b24ef237d05",
   "metadata": {},
   "outputs": [
    {
     "data": {
      "text/plain": [
       "batsman\n",
       "AB de Villiers    211.052632\n",
       "DA Warner         189.473684\n",
       "DA Miller         186.666667\n",
       "V Kohli           181.868132\n",
       "RG Sharma         175.668449\n",
       "Name: batsman_runs, dtype: float64"
      ]
     },
     "execution_count": 18,
     "metadata": {},
     "output_type": "execute_result"
    }
   ],
   "source": [
    "import numpy as np\n",
    "import pandas as pd\n",
    "\n",
    "delivery=pd.read_csv('deliveries.csv')\n",
    "\n",
    "death_over=delivery[delivery['over']>15]\n",
    "\n",
    "all_batsman=death_over.groupby('batsman')['batsman_runs'].count()\n",
    "\n",
    "x=all_batsman>200\n",
    "\n",
    "all_batsman[x]\n",
    "\n",
    "batsman_list=all_batsman[x].index.tolist()\n",
    "\n",
    "final=death_over[death_over['batsman'].isin(batsman_list)]\n",
    "\n",
    "runs=final.groupby('batsman')['batsman_runs'].sum()\n",
    "\n",
    "\n",
    "balls=final.groupby('batsman')['batsman_runs'].count()\n",
    "\n",
    "sr=(runs/balls)*100\n",
    "\n",
    "sr.sort_values(ascending=False).head()"
   ]
  },
  {
   "cell_type": "markdown",
   "id": "fc55bb22-2ece-4f8a-a6c9-cd63783656d3",
   "metadata": {},
   "source": [
    "# now 1st 5 over highest runs"
   ]
  },
  {
   "cell_type": "code",
   "execution_count": 32,
   "id": "eee4873a-ad52-4d25-90f8-d307bed0f365",
   "metadata": {},
   "outputs": [
    {
     "data": {
      "text/plain": [
       "batsman\n",
       "WP Saha       134.259259\n",
       "V Sehwag      131.787330\n",
       "JD Ryder      123.282443\n",
       "DA Warner     121.616541\n",
       "RV Uthappa    121.328671\n",
       "Name: batsman_runs, dtype: float64"
      ]
     },
     "execution_count": 32,
     "metadata": {},
     "output_type": "execute_result"
    }
   ],
   "source": [
    "import numpy as np\n",
    "import pandas as pd\n",
    "\n",
    "delivery=pd.read_csv('deliveries.csv')\n",
    "\n",
    "first_five=delivery[delivery['over']<5]\n",
    "\n",
    "all_batsman=first_five.groupby('batsman')['batsman_runs'].count()\n",
    "\n",
    "x=all_batsman>200\n",
    "\n",
    "#all_batsman=all_batsman[x]\n",
    "\n",
    "batsman_list=all_batsman[x].index.tolist()\n",
    "\n",
    "final=first_five[first_five['batsman'].isin(batsman_list)]\n",
    "\n",
    "runs=final.groupby('batsman')['batsman_runs'].sum()\n",
    "\n",
    "balls=final.groupby('batsman')['batsman_runs'].count()\n",
    "\n",
    "sr=(runs/balls)*100\n",
    "\n",
    "sr.sort_values(ascending=False).head()"
   ]
  }
 ],
 "metadata": {
  "kernelspec": {
   "display_name": "Python 3 (ipykernel)",
   "language": "python",
   "name": "python3"
  },
  "language_info": {
   "codemirror_mode": {
    "name": "ipython",
    "version": 3
   },
   "file_extension": ".py",
   "mimetype": "text/x-python",
   "name": "python",
   "nbconvert_exporter": "python",
   "pygments_lexer": "ipython3",
   "version": "3.12.7"
  }
 },
 "nbformat": 4,
 "nbformat_minor": 5
}
