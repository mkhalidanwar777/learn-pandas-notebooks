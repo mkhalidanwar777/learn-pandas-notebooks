{
 "cells": [
  {
   "cell_type": "markdown",
   "id": "e4d76f56-893d-4632-b2cd-1f4f3cfca366",
   "metadata": {},
   "source": [
    "# value_counts() Function"
   ]
  },
  {
   "cell_type": "code",
   "execution_count": 3,
   "id": "94f855c3-3566-49fa-a320-6b50925e2192",
   "metadata": {},
   "outputs": [
    {
     "data": {
      "text/plain": [
       "Team Name\n",
       "Peshawar Zalmi       97\n",
       "Lahore Qalanders     95\n",
       "Quetta Gladiators    93\n",
       "Karachi Kings        90\n",
       "Islamabad United     79\n",
       "Multan Sultans       67\n",
       "Name: count, dtype: int64"
      ]
     },
     "execution_count": 3,
     "metadata": {},
     "output_type": "execute_result"
    }
   ],
   "source": [
    "import numpy as np\n",
    "import pandas as pd\n",
    "data=pd.read_csv('battingAvg.csv')\n",
    "data['Team Name'].value_counts()"
   ]
  },
  {
   "cell_type": "code",
   "execution_count": null,
   "id": "a6ae1395-e150-43c1-9380-30c3046a7754",
   "metadata": {},
   "outputs": [],
   "source": []
  }
 ],
 "metadata": {
  "kernelspec": {
   "display_name": "Python 3 (ipykernel)",
   "language": "python",
   "name": "python3"
  },
  "language_info": {
   "codemirror_mode": {
    "name": "ipython",
    "version": 3
   },
   "file_extension": ".py",
   "mimetype": "text/x-python",
   "name": "python",
   "nbconvert_exporter": "python",
   "pygments_lexer": "ipython3",
   "version": "3.12.7"
  }
 },
 "nbformat": 4,
 "nbformat_minor": 5
}
