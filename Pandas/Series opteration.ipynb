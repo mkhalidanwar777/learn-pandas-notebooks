{
 "cells": [
  {
   "cell_type": "markdown",
   "id": "180adf5f-841e-415f-b663-54795dbfe12a",
   "metadata": {},
   "source": [
    "# Series opteration\n",
    "### single ROW / Column\n",
    "#\n",
    "## Maim Two Points \n",
    "### 1 index      2 value"
   ]
  },
  {
   "cell_type": "code",
   "execution_count": 1,
   "id": "637ba38a-966a-4bab-8ef0-2f6d11be0817",
   "metadata": {},
   "outputs": [
    {
     "data": {
      "text/plain": [
       "Team Name\n",
       "Peshawar Zalmi       97\n",
       "Lahore Qalanders     95\n",
       "Quetta Gladiators    93\n",
       "Karachi Kings        90\n",
       "Islamabad United     79\n",
       "Multan Sultans       67\n",
       "Name: count, dtype: int64"
      ]
     },
     "execution_count": 1,
     "metadata": {},
     "output_type": "execute_result"
    }
   ],
   "source": [
    "import numpy as np\n",
    "import pandas as pd\n",
    "data=pd.read_csv('battingAvg.csv')\n",
    "\n",
    "data['Team Name'].value_counts()"
   ]
  },
  {
   "cell_type": "markdown",
   "id": "70923aeb-0d97-4902-a40d-dedcd70c09e9",
   "metadata": {},
   "source": [
    "### look 1st one is index and 2nd column is value \n",
    "### now check its type()"
   ]
  },
  {
   "cell_type": "code",
   "execution_count": 2,
   "id": "bf27478c-099a-48d4-bc7b-b4498b02e40b",
   "metadata": {},
   "outputs": [
    {
     "data": {
      "text/plain": [
       "pandas.core.series.Series"
      ]
     },
     "execution_count": 2,
     "metadata": {},
     "output_type": "execute_result"
    }
   ],
   "source": [
    "import numpy as np\n",
    "import pandas as pd\n",
    "data=pd.read_csv('battingAvg.csv')\n",
    "\n",
    "type(data['Team Name'].value_counts())"
   ]
  },
  {
   "cell_type": "markdown",
   "id": "20889be5-1274-4642-91d8-526320eab93b",
   "metadata": {},
   "source": [
    "## only index print\n",
    "### myseries.index"
   ]
  },
  {
   "cell_type": "code",
   "execution_count": 3,
   "id": "6c6f58e6-8b5d-48ea-a5b2-d5ae536e6d56",
   "metadata": {},
   "outputs": [
    {
     "data": {
      "text/plain": [
       "Index(['Peshawar Zalmi', 'Lahore Qalanders', 'Quetta Gladiators',\n",
       "       'Karachi Kings', 'Islamabad United', 'Multan Sultans'],\n",
       "      dtype='object', name='Team Name')"
      ]
     },
     "execution_count": 3,
     "metadata": {},
     "output_type": "execute_result"
    }
   ],
   "source": [
    "import numpy as np\n",
    "import pandas as pd\n",
    "data=pd.read_csv('battingAvg.csv')\n",
    "\n",
    "myseries=data['Team Name'].value_counts()\n",
    "\n",
    "myseries.index"
   ]
  },
  {
   "cell_type": "markdown",
   "id": "c5af0378-9bf7-4cc8-b7df-9ee93bd6c7fc",
   "metadata": {},
   "source": [
    "## only print values\n",
    "### myseries.values"
   ]
  },
  {
   "cell_type": "code",
   "execution_count": 8,
   "id": "b6beca18-6def-405e-a55e-44fd3cf24f42",
   "metadata": {},
   "outputs": [
    {
     "data": {
      "text/plain": [
       "array([97, 95, 93, 90, 79, 67], dtype=int64)"
      ]
     },
     "execution_count": 8,
     "metadata": {},
     "output_type": "execute_result"
    }
   ],
   "source": [
    "import numpy as np\n",
    "import pandas as pd\n",
    "data=pd.read_csv('battingAvg.csv')\n",
    "\n",
    "myseries=data['Team Name'].value_counts()\n",
    "\n",
    "myseries.values"
   ]
  },
  {
   "cell_type": "markdown",
   "id": "db5a8569-f181-4918-92b7-0b0ef5e5c86e",
   "metadata": {},
   "source": [
    "## print only 1st 5 index"
   ]
  },
  {
   "cell_type": "code",
   "execution_count": 12,
   "id": "3266a90e-f206-466c-812b-8b378e9b35e0",
   "metadata": {},
   "outputs": [
    {
     "data": {
      "text/plain": [
       "Team Name\n",
       "Peshawar Zalmi       97\n",
       "Lahore Qalanders     95\n",
       "Quetta Gladiators    93\n",
       "Karachi Kings        90\n",
       "Islamabad United     79\n",
       "Name: count, dtype: int64"
      ]
     },
     "execution_count": 12,
     "metadata": {},
     "output_type": "execute_result"
    }
   ],
   "source": [
    "import numpy as np\n",
    "import pandas as pd\n",
    "data=pd.read_csv('battingAvg.csv')\n",
    "\n",
    "myseries=data['Team Name'].value_counts()\n",
    "\n",
    "myseries.head()"
   ]
  },
  {
   "cell_type": "markdown",
   "id": "c29721bf-9c65-4eee-b961-52aff771797a",
   "metadata": {},
   "source": [
    "## find the value with the help of index"
   ]
  },
  {
   "cell_type": "code",
   "execution_count": 15,
   "id": "3735b108-6883-48d8-aaa8-79b40958275d",
   "metadata": {},
   "outputs": [
    {
     "data": {
      "text/plain": [
       "97"
      ]
     },
     "execution_count": 15,
     "metadata": {},
     "output_type": "execute_result"
    }
   ],
   "source": [
    "import numpy as np\n",
    "import pandas as pd\n",
    "data=pd.read_csv('battingAvg.csv')\n",
    "\n",
    "myseries=data['Team Name'].value_counts()\n",
    "\n",
    "myseries['Peshawar Zalmi']"
   ]
  },
  {
   "cell_type": "markdown",
   "id": "7dcf38c7-209b-41e3-9a2e-9ae3ab901de9",
   "metadata": {},
   "source": [
    "## combine two column record like 4 runs and 6 runs "
   ]
  },
  {
   "cell_type": "code",
   "execution_count": 19,
   "id": "36987c2d-a1bc-4f8a-baa8-02c02cdcde1f",
   "metadata": {},
   "outputs": [
    {
     "data": {
      "text/plain": [
       "A Lyth           NaN\n",
       "AB de Villiers   NaN\n",
       "AD Hales         NaN\n",
       "AD Russell       NaN\n",
       "ADS Fletcher     NaN\n",
       "                  ..\n",
       "Zeeshan Ashraf   NaN\n",
       "Zeeshan Zameer   NaN\n",
       "Zia-ul-Haq       NaN\n",
       "Zohaib Khan      NaN\n",
       "Zulfiqar Babar   NaN\n",
       "Name: count, Length: 346, dtype: float64"
      ]
     },
     "execution_count": 19,
     "metadata": {},
     "output_type": "execute_result"
    }
   ],
   "source": [
    "import numpy as np\n",
    "import pandas as pd\n",
    "data=pd.read_csv('battingAvg.csv')\n",
    "\n",
    "data['Player'].value_counts() + data['Team Name'].value_counts()\n",
    "\n"
   ]
  },
  {
   "cell_type": "code",
   "execution_count": null,
   "id": "68403279-8b0e-4ab5-8aa4-5e44956bd6f7",
   "metadata": {},
   "outputs": [],
   "source": []
  }
 ],
 "metadata": {
  "kernelspec": {
   "display_name": "Python 3 (ipykernel)",
   "language": "python",
   "name": "python3"
  },
  "language_info": {
   "codemirror_mode": {
    "name": "ipython",
    "version": 3
   },
   "file_extension": ".py",
   "mimetype": "text/x-python",
   "name": "python",
   "nbconvert_exporter": "python",
   "pygments_lexer": "ipython3",
   "version": "3.12.7"
  }
 },
 "nbformat": 4,
 "nbformat_minor": 5
}
