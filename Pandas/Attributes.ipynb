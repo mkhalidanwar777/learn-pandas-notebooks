{
 "cells": [
  {
   "cell_type": "markdown",
   "id": "9535a00e-faa4-4646-9373-6089b11f35ff",
   "metadata": {},
   "source": [
    "# Attributes\n",
    "#\n",
    "## data.shape :\n",
    "### it is using for find rows and column"
   ]
  },
  {
   "cell_type": "code",
   "execution_count": 1,
   "id": "8a356117-8c01-48d0-866f-d233bb89867a",
   "metadata": {},
   "outputs": [
    {
     "data": {
      "text/plain": [
       "(521, 17)"
      ]
     },
     "execution_count": 1,
     "metadata": {},
     "output_type": "execute_result"
    }
   ],
   "source": [
    "import numpy as np\n",
    "import pandas as pd\n",
    "data=pd.read_csv('battingAvg.csv')\n",
    "data.shape"
   ]
  },
  {
   "cell_type": "code",
   "execution_count": null,
   "id": "39c9021d-2fb7-4ec9-ba12-60b11b071c8b",
   "metadata": {},
   "outputs": [],
   "source": []
  }
 ],
 "metadata": {
  "kernelspec": {
   "display_name": "Python 3 (ipykernel)",
   "language": "python",
   "name": "python3"
  },
  "language_info": {
   "codemirror_mode": {
    "name": "ipython",
    "version": 3
   },
   "file_extension": ".py",
   "mimetype": "text/x-python",
   "name": "python",
   "nbconvert_exporter": "python",
   "pygments_lexer": "ipython3",
   "version": "3.12.7"
  }
 },
 "nbformat": 4,
 "nbformat_minor": 5
}
