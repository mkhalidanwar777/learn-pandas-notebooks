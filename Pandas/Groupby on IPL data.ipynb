{
 "cells": [
  {
   "cell_type": "code",
   "execution_count": 2,
   "id": "5bb766cd-ab8b-4c5a-a9ad-fefe446c3c27",
   "metadata": {},
   "outputs": [
    {
     "data": {
      "text/html": [
       "<div>\n",
       "<style scoped>\n",
       "    .dataframe tbody tr th:only-of-type {\n",
       "        vertical-align: middle;\n",
       "    }\n",
       "\n",
       "    .dataframe tbody tr th {\n",
       "        vertical-align: top;\n",
       "    }\n",
       "\n",
       "    .dataframe thead th {\n",
       "        text-align: right;\n",
       "    }\n",
       "</style>\n",
       "<table border=\"1\" class=\"dataframe\">\n",
       "  <thead>\n",
       "    <tr style=\"text-align: right;\">\n",
       "      <th></th>\n",
       "      <th>match_id</th>\n",
       "      <th>inning</th>\n",
       "      <th>batting_team</th>\n",
       "      <th>bowling_team</th>\n",
       "      <th>over</th>\n",
       "      <th>ball</th>\n",
       "      <th>batsman</th>\n",
       "      <th>non_striker</th>\n",
       "      <th>bowler</th>\n",
       "      <th>is_super_over</th>\n",
       "      <th>...</th>\n",
       "      <th>bye_runs</th>\n",
       "      <th>legbye_runs</th>\n",
       "      <th>noball_runs</th>\n",
       "      <th>penalty_runs</th>\n",
       "      <th>batsman_runs</th>\n",
       "      <th>extra_runs</th>\n",
       "      <th>total_runs</th>\n",
       "      <th>player_dismissed</th>\n",
       "      <th>dismissal_kind</th>\n",
       "      <th>fielder</th>\n",
       "    </tr>\n",
       "  </thead>\n",
       "  <tbody>\n",
       "    <tr>\n",
       "      <th>0</th>\n",
       "      <td>1</td>\n",
       "      <td>1</td>\n",
       "      <td>Sunrisers Hyderabad</td>\n",
       "      <td>Royal Challengers Bangalore</td>\n",
       "      <td>1</td>\n",
       "      <td>1</td>\n",
       "      <td>DA Warner</td>\n",
       "      <td>S Dhawan</td>\n",
       "      <td>TS Mills</td>\n",
       "      <td>0</td>\n",
       "      <td>...</td>\n",
       "      <td>0</td>\n",
       "      <td>0</td>\n",
       "      <td>0</td>\n",
       "      <td>0</td>\n",
       "      <td>0</td>\n",
       "      <td>0</td>\n",
       "      <td>0</td>\n",
       "      <td>NaN</td>\n",
       "      <td>NaN</td>\n",
       "      <td>NaN</td>\n",
       "    </tr>\n",
       "    <tr>\n",
       "      <th>1</th>\n",
       "      <td>1</td>\n",
       "      <td>1</td>\n",
       "      <td>Sunrisers Hyderabad</td>\n",
       "      <td>Royal Challengers Bangalore</td>\n",
       "      <td>1</td>\n",
       "      <td>2</td>\n",
       "      <td>DA Warner</td>\n",
       "      <td>S Dhawan</td>\n",
       "      <td>TS Mills</td>\n",
       "      <td>0</td>\n",
       "      <td>...</td>\n",
       "      <td>0</td>\n",
       "      <td>0</td>\n",
       "      <td>0</td>\n",
       "      <td>0</td>\n",
       "      <td>0</td>\n",
       "      <td>0</td>\n",
       "      <td>0</td>\n",
       "      <td>NaN</td>\n",
       "      <td>NaN</td>\n",
       "      <td>NaN</td>\n",
       "    </tr>\n",
       "  </tbody>\n",
       "</table>\n",
       "<p>2 rows × 21 columns</p>\n",
       "</div>"
      ],
      "text/plain": [
       "   match_id  inning         batting_team                 bowling_team  over  \\\n",
       "0         1       1  Sunrisers Hyderabad  Royal Challengers Bangalore     1   \n",
       "1         1       1  Sunrisers Hyderabad  Royal Challengers Bangalore     1   \n",
       "\n",
       "   ball    batsman non_striker    bowler  is_super_over  ...  bye_runs  \\\n",
       "0     1  DA Warner    S Dhawan  TS Mills              0  ...         0   \n",
       "1     2  DA Warner    S Dhawan  TS Mills              0  ...         0   \n",
       "\n",
       "   legbye_runs  noball_runs  penalty_runs  batsman_runs  extra_runs  \\\n",
       "0            0            0             0             0           0   \n",
       "1            0            0             0             0           0   \n",
       "\n",
       "   total_runs  player_dismissed dismissal_kind fielder  \n",
       "0           0               NaN            NaN     NaN  \n",
       "1           0               NaN            NaN     NaN  \n",
       "\n",
       "[2 rows x 21 columns]"
      ]
     },
     "execution_count": 2,
     "metadata": {},
     "output_type": "execute_result"
    }
   ],
   "source": [
    "import numpy as np\n",
    "import pandas as pd\n",
    "\n",
    "delivery=pd.read_csv('deliveries.csv')\n",
    "delivery.head(2)"
   ]
  },
  {
   "cell_type": "markdown",
   "id": "072f371b-36a7-4ae3-b34c-ce7537c83d8f",
   "metadata": {},
   "source": [
    "# top 5 batsman runs"
   ]
  },
  {
   "cell_type": "code",
   "execution_count": 5,
   "id": "ac9350e1-bb24-4cee-8cfc-8578a949b5dc",
   "metadata": {},
   "outputs": [
    {
     "data": {
      "text/plain": [
       "batsman\n",
       "SK Raina     4548\n",
       "V Kohli      4423\n",
       "RG Sharma    4207\n",
       "G Gambhir    4132\n",
       "DA Warner    4014\n",
       "Name: batsman_runs, dtype: int64"
      ]
     },
     "execution_count": 5,
     "metadata": {},
     "output_type": "execute_result"
    }
   ],
   "source": [
    "import numpy as np\n",
    "import pandas as pd\n",
    "\n",
    "delivery=pd.read_csv('deliveries.csv')\n",
    "runs=delivery.groupby('batsman')\n",
    "runs['batsman_runs'].sum().sort_values(ascending=False).head()"
   ]
  },
  {
   "cell_type": "markdown",
   "id": "dedb4def-a309-4e4f-b516-97ed7541ae3e",
   "metadata": {},
   "source": [
    "# highest 4 four runs in IPL"
   ]
  },
  {
   "cell_type": "code",
   "execution_count": 13,
   "id": "30587b75-1a11-42d7-b76b-2ab86a4b6996",
   "metadata": {},
   "outputs": [
    {
     "data": {
      "text/plain": [
       "batsman\n",
       "G Gambhir    484\n",
       "SK Raina     402\n",
       "DA Warner    401\n",
       "S Dhawan     401\n",
       "V Kohli      384\n",
       "Name: batsman_runs, dtype: int64"
      ]
     },
     "execution_count": 13,
     "metadata": {},
     "output_type": "execute_result"
    }
   ],
   "source": [
    "import numpy as np\n",
    "import pandas as pd\n",
    "\n",
    "delivery=pd.read_csv('deliveries.csv')\n",
    "\n",
    "runs=delivery[delivery['batsman_runs']==4]\n",
    "fours=runs.groupby('batsman')\n",
    "fours['batsman_runs'].count().sort_values(ascending=False).head()"
   ]
  },
  {
   "cell_type": "markdown",
   "id": "46881b4c-6f4b-486b-bb28-445d207534ab",
   "metadata": {},
   "source": [
    "# highest six in IPL"
   ]
  },
  {
   "cell_type": "code",
   "execution_count": 14,
   "id": "42b8af83-1b0a-4ab9-b375-d55218eac707",
   "metadata": {},
   "outputs": [
    {
     "data": {
      "text/plain": [
       "batsman\n",
       "CH Gayle     266\n",
       "SK Raina     174\n",
       "RG Sharma    173\n",
       "V Kohli      160\n",
       "DA Warner    160\n",
       "Name: batsman_runs, dtype: int64"
      ]
     },
     "execution_count": 14,
     "metadata": {},
     "output_type": "execute_result"
    }
   ],
   "source": [
    "import numpy as np\n",
    "import pandas as pd\n",
    "\n",
    "delivery=pd.read_csv('deliveries.csv')\n",
    "\n",
    "runs=delivery[delivery['batsman_runs']==6]\n",
    "fours=runs.groupby('batsman')\n",
    "fours['batsman_runs'].count().sort_values(ascending=False).head()"
   ]
  },
  {
   "cell_type": "markdown",
   "id": "453e3848-1cc6-448a-8be8-290c34ab4f21",
   "metadata": {},
   "source": [
    "# one player highest runs on which team "
   ]
  },
  {
   "cell_type": "code",
   "execution_count": 42,
   "id": "3191526c-de47-4c0f-9b8a-f3858cc2a80a",
   "metadata": {},
   "outputs": [
    {
     "data": {
      "text/plain": [
       "bowling_team\n",
       "Chennai Super Kings    706\n",
       "Delhi Daredevils       661\n",
       "Kings XI Punjab        483\n",
       "Name: batsman_runs, dtype: int64"
      ]
     },
     "execution_count": 42,
     "metadata": {},
     "output_type": "execute_result"
    }
   ],
   "source": [
    "import numpy as np\n",
    "import pandas as pd\n",
    "\n",
    "delivery=pd.read_csv('deliveries.csv')\n",
    "\n",
    "vk=delivery[delivery['batsman']=='V Kohli']\n",
    "vk.groupby('bowling_team')['batsman_runs'].sum().sort_values(ascending=False).head(3)"
   ]
  },
  {
   "cell_type": "markdown",
   "id": "acee45e9-b2dd-4ee1-afe2-e7e7e0ab05d4",
   "metadata": {},
   "source": [
    "# AB de Villiers"
   ]
  },
  {
   "cell_type": "code",
   "execution_count": 40,
   "id": "7da2d708-6c95-4921-b42c-a1631d33b751",
   "metadata": {},
   "outputs": [
    {
     "data": {
      "text/plain": [
       "bowling_team\n",
       "Mumbai Indians                 510\n",
       "Rajasthan Royals               485\n",
       "Kings XI Punjab                482\n",
       "Chennai Super Kings            374\n",
       "Sunrisers Hyderabad            313\n",
       "Kolkata Knight Riders          255\n",
       "Delhi Daredevils               247\n",
       "Gujarat Lions                  233\n",
       "Deccan Chargers                153\n",
       "Pune Warriors                  149\n",
       "Royal Challengers Bangalore    115\n",
       "Rising Pune Supergiants         84\n",
       "Kochi Tuskers Kerala            54\n",
       "Rising Pune Supergiant          32\n",
       "Name: batsman_runs, dtype: int64"
      ]
     },
     "execution_count": 40,
     "metadata": {},
     "output_type": "execute_result"
    }
   ],
   "source": [
    "import numpy as np\n",
    "import pandas as pd\n",
    "\n",
    "delivery=pd.read_csv('deliveries.csv')\n",
    "\n",
    "ab=delivery[delivery['batsman']=='AB de Villiers']\n",
    "ab.groupby('bowling_team')['batsman_runs'].sum().sort_values(ascending=False)"
   ]
  },
  {
   "cell_type": "code",
   "execution_count": null,
   "id": "1a54e6ad-3496-4be1-8888-46624c7d042f",
   "metadata": {},
   "outputs": [],
   "source": []
  }
 ],
 "metadata": {
  "kernelspec": {
   "display_name": "Python 3 (ipykernel)",
   "language": "python",
   "name": "python3"
  },
  "language_info": {
   "codemirror_mode": {
    "name": "ipython",
    "version": 3
   },
   "file_extension": ".py",
   "mimetype": "text/x-python",
   "name": "python",
   "nbconvert_exporter": "python",
   "pygments_lexer": "ipython3",
   "version": "3.12.7"
  }
 },
 "nbformat": 4,
 "nbformat_minor": 5
}
